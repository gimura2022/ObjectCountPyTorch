{
  "cells": [
    {
      "cell_type": "code",
      "source": [
        "!7za x data.zip"
      ],
      "metadata": {
        "id": "Zr6llmQzY15h",
        "colab": {
          "base_uri": "https://localhost:8080/"
        },
        "outputId": "2531e57a-2440-4169-c568-3f1f0a47d4c3"
      },
      "execution_count": 41,
      "outputs": [
        {
          "output_type": "stream",
          "name": "stdout",
          "text": [
            "\n",
            "7-Zip (a) [64] 16.02 : Copyright (c) 1999-2016 Igor Pavlov : 2016-05-21\n",
            "p7zip Version 16.02 (locale=en_US.UTF-8,Utf16=on,HugeFiles=on,64 bits,2 CPUs Intel(R) Xeon(R) CPU @ 2.20GHz (406F0),ASM,AES-NI)\n",
            "\n",
            "Scanning the drive for archives:\n",
            "  0M Scan\b\b\b\b\b\b\b\b\b         \b\b\b\b\b\b\b\b\b1 file, 622499202 bytes (594 MiB)\n",
            "\n",
            "Extracting archive: data.zip\n",
            " 27% 4096 Open\b\b\b\b\b\b\b\b\b\b\b\b\b\b              \b\b\b\b\b\b\b\b\b\b\b\b\b\b\n",
            "ERRORS:\n",
            "Unexpected end of archive\n",
            "\n",
            "--\n",
            "Path = data.zip\n",
            "Type = zip\n",
            "ERRORS:\n",
            "Unexpected end of archive\n",
            "Physical Size = 622499202\n",
            "\n",
            "  1%\b\b\b\b    \b\b\b\bERROR: Data Error : data_for_achive/test/pictures/test_0257.png\n",
            "100% 53 - data_for_achive/test/pictures/test_0257.png\b\b\b\b\b\b\b\b\b\b\b\b\b\b\b\b\b\b\b\b\b\b\b\b\b\b\b\b\b\b\b\b\b\b\b\b\b\b\b\b\b\b\b\b\b\b\b\b\b\b\b\b\b                                                     \b\b\b\b\b\b\b\b\b\b\b\b\b\b\b\b\b\b\b\b\b\b\b\b\b\b\b\b\b\b\b\b\b\b\b\b\b\b\b\b\b\b\b\b\b\b\b\b\b\b\b\b\b\n",
            "Sub items Errors: 1\n",
            "\n",
            "Archives with Errors: 1\n",
            "\n",
            "Open Errors: 1\n",
            "\n",
            "Sub items Errors: 1\n"
          ]
        }
      ]
    },
    {
      "cell_type": "code",
      "execution_count": 1,
      "metadata": {
        "id": "wH3qW1tF_DfB"
      },
      "outputs": [],
      "source": [
        "import torch\n",
        "import torchvision\n",
        "import pandas as pd\n",
        "import numpy as np\n",
        "import matplotlib.pyplot as plt\n",
        "import tqdm\n",
        "import pandas as pd\n",
        "\n",
        "from torchvision import transforms\n",
        "from torch import nn\n",
        "from torch.utils.data import DataLoader\n",
        "from torchvision.datasets import ImageFolder\n",
        "from PIL import Image"
      ]
    },
    {
      "cell_type": "code",
      "source": [
        "batch_size = 512\n",
        "lerning_rate = 0.001\n",
        "epoch = 8"
      ],
      "metadata": {
        "id": "1XSlhYtYeI-8"
      },
      "execution_count": 2,
      "outputs": []
    },
    {
      "cell_type": "code",
      "source": [
        "sanders_transform = transforms.Compose([\n",
        "    transforms.Grayscale(),\n",
        "    transforms.Resize((28, 28)),\n",
        "    transforms.ToTensor(),\n",
        "    transforms.Normalize((0.1307,), (0.3081,))\n",
        "])\n",
        "\n",
        "dataset = ImageFolder(\"/content/data_for_achive/train/images\", sanders_transform)\n",
        "data_loader = DataLoader(dataset, batch_size=batch_size, shuffle=True, drop_last=False, num_workers=4)\n",
        "\n",
        "table = pd.read_csv(\"/content/data_for_achive/train/answers.csv\")"
      ],
      "metadata": {
        "id": "9FLgmWZSAJji"
      },
      "execution_count": 193,
      "outputs": []
    },
    {
      "cell_type": "code",
      "source": [
        "def split_array(array, batch_size):\n",
        "    out_array = []\n",
        "    counter = 0\n",
        "    crnt_id = 0\n",
        "\n",
        "    out_array.append([])\n",
        "\n",
        "    for element in array:\n",
        "        out_array[crnt_id].append(element)\n",
        "        counter += 1\n",
        "\n",
        "        if counter == batch_size:\n",
        "            crnt_id += 1\n",
        "            counter = 0\n",
        "            out_array.append([])\n",
        "\n",
        "            continue\n",
        "\n",
        "    return out_array"
      ],
      "metadata": {
        "id": "K7EGXbULpM6A"
      },
      "execution_count": 3,
      "outputs": []
    },
    {
      "cell_type": "code",
      "source": [
        "labels = split_array(table['count'], batch_size)\n",
        "labels = [torch.Tensor(list(element)).to(torch.long) for element in labels]"
      ],
      "metadata": {
        "id": "Fz3ykXgshwXJ"
      },
      "execution_count": 195,
      "outputs": []
    },
    {
      "cell_type": "code",
      "source": [
        "class BurgerNet(nn.Module):\n",
        "    def __init__(self):\n",
        "         super(BurgerNet, self).__init__()\n",
        "         self.layer1 = nn.Sequential( nn.Conv2d(1, 32, kernel_size=5, stride=1, padding=2),\n",
        "            nn.ReLU(), nn.MaxPool2d(kernel_size=2, stride=2))\n",
        "         self.layer2 = nn.Sequential( nn.Conv2d(32, 64, kernel_size=5, stride=1, padding=2),\n",
        "            nn.ReLU(), nn.MaxPool2d(kernel_size=2, stride=2))\n",
        "         self.drop_out = nn.Dropout()\n",
        "         self.fc1 = nn.Linear(7 * 7 * 64, 1000)\n",
        "         self.fc2 = nn.Linear(1000, 10)\n",
        "\n",
        "    def forward(self, x):\n",
        "      out = self.layer1(x)\n",
        "      out = self.layer2(out)\n",
        "      out = out.view(out.size(0), -1)\n",
        "      out = self.drop_out(out)\n",
        "      out = self.fc1(out)\n",
        "      out = self.fc2(out)\n",
        "\n",
        "      return out\n",
        "\n",
        "model = BurgerNet()\n",
        "criterion = nn.CrossEntropyLoss()\n",
        "mac_optimizer = torch.optim.Adam(model.parameters(), lr=lerning_rate)"
      ],
      "metadata": {
        "id": "FEjNwxStZn_a"
      },
      "execution_count": 196,
      "outputs": []
    },
    {
      "cell_type": "code",
      "source": [
        "loss_list = []\n",
        "acc_list = []\n",
        "\n",
        "for epoch_num in range(epoch):\n",
        "  for i, (images, _) in enumerate(tqdm.tqdm(data_loader)):\n",
        "    outputs = model(images)\n",
        "\n",
        "    loss = criterion(outputs, labels[i])\n",
        "    loss_list.append(loss.item())\n",
        "\n",
        "    mac_optimizer.zero_grad()\n",
        "    loss.backward()\n",
        "    mac_optimizer.step()\n",
        "\n",
        "    total = labels[i].size(0)\n",
        "    _, predicted = torch.max(outputs.data, 1)\n",
        "    correct = (predicted == labels[i]).sum().item()\n",
        "    acc_list.append(correct / total)\n",
        "\n",
        "torch.save(model, \"model.pt\")"
      ],
      "metadata": {
        "id": "Pbc-osSqwRcW"
      },
      "execution_count": null,
      "outputs": []
    },
    {
      "cell_type": "code",
      "source": [
        "plt.plot(loss_list)\n",
        "plt.plot(acc_list)\n",
        "\n",
        "plt.show()"
      ],
      "metadata": {
        "colab": {
          "base_uri": "https://localhost:8080/",
          "height": 430
        },
        "id": "SfcAUFOesm_t",
        "outputId": "c76b623e-fcd5-42bd-8c5c-cfde8ae0740e"
      },
      "execution_count": 202,
      "outputs": [
        {
          "output_type": "display_data",
          "data": {
            "text/plain": [
              "<Figure size 640x480 with 1 Axes>"
            ],
            "image/png": "[encoded data removed]"
          },
          "metadata": {}
        }
      ]
    },
    {
      "cell_type": "code",
      "source": [
        "def predict(path):\n",
        "    def predict_inner(path):\n",
        "        image = Image.open(path).convert(\"RGB\")\n",
        "        image = sanders_transform(image)\n",
        "        image = image[None, :, :, :]\n",
        "\n",
        "        out = model(image)\n",
        "\n",
        "        return (out.abs().sum() / out.size()[1]).item()\n",
        "\n",
        "    array = [predict_inner(path) for _ in range(10)]\n",
        "\n",
        "    return round(sum(array) / len(array))\n",
        "\n",
        "predict(\"/content/hor.jpg\")"
      ],
      "metadata": {
        "colab": {
          "base_uri": "https://localhost:8080/"
        },
        "id": "Z8Z0qjJi212t",
        "outputId": "a8960904-8d50-4555-b6d6-496ae1d1a221"
      },
      "execution_count": 285,
      "outputs": [
        {
          "output_type": "execute_result",
          "data": {
            "text/plain": [
              "3"
            ]
          },
          "metadata": {},
          "execution_count": 285
        }
      ]
    },
    {
      "cell_type": "code",
      "source": [
        "data = pd.read_csv(\"/content/data_for_achive/test/image_names.csv\")\n",
        "output = [predict(f\"/content/data_for_achive/test/pictures/{name}\") for name in tqdm.tqdm(data['name'])]\n",
        "\n",
        "pd.DataFrame({\"count\": output}).to_csv(\"/content/data.csv\")"
      ],
      "metadata": {
        "id": "aEr25W24Wj3p"
      },
      "execution_count": null,
      "outputs": []
    }
  ],
  "metadata": {
    "kernelspec": {
      "display_name": "Python 3",
      "name": "python3"
    },
    "language_info": {
      "name": "python",
      "version": "3.11.8"
    },
    "colab": {
      "provenance": []
    },
    "accelerator": "TPU"
  },
  "nbformat": 4,
  "nbformat_minor": 0
}