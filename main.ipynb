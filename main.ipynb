{
  "cells": [
    {
      "cell_type": "code",
      "source": [
        "!unzip data.zip"
      ],
      "metadata": {
        "id": "Zr6llmQzY15h"
      },
      "execution_count": null,
      "outputs": []
    },
    {
      "cell_type": "code",
      "execution_count": 2,
      "metadata": {
        "id": "wH3qW1tF_DfB"
      },
      "outputs": [],
      "source": [
        "import torch\n",
        "import torchvision\n",
        "import pandas as pd\n",
        "\n",
        "from torchvision import transforms\n",
        "from torch import nn\n",
        "from torch.utils.data import DataLoader\n",
        "from torchvision.datasets import ImageFolder"
      ]
    },
    {
      "cell_type": "code",
      "source": [
        "batch_size = 32\n",
        "lerning_rate = 0.001\n",
        "epoch = 5"
      ],
      "metadata": {
        "id": "1XSlhYtYeI-8"
      },
      "execution_count": 3,
      "outputs": []
    },
    {
      "cell_type": "code",
      "source": [
        "sanders_transform = transforms.Compose([\n",
        "    transforms.Grayscale(),\n",
        "    transforms.ToTensor(),\n",
        "    transforms.Normalize((0.1307,), (0.3081,))\n",
        "])\n",
        "\n",
        "dataset = ImageFolder(\"/content/data/train/images\", sanders_transform)\n",
        "data_loader = DataLoader(dataset, batch_size=batch_size, shuffle=True, drop_last=False, num_workers=4)\n",
        "\n",
        "table = pd.read_csv(\"data/train/images.csv\")"
      ],
      "metadata": {
        "id": "9FLgmWZSAJji"
      },
      "execution_count": null,
      "outputs": []
    },
    {
      "cell_type": "code",
      "source": [
        "labels = [torch.Tensor([table['count'][j] for j in range(batch_size if table['file_name'].size % batch_size * i == 0 else batch_size * i - table['file_name'].size)]) for i in range(table['file_name'].size // batch_size)]"
      ],
      "metadata": {
        "id": "eMw6qt_PM3fh"
      },
      "execution_count": 7,
      "outputs": []
    },
    {
      "cell_type": "code",
      "source": [
        "labels\n",
        "\n",
        "# нужно сделать срез numpy.array_split"
      ],
      "metadata": {
        "id": "Fz3ykXgshwXJ",
        "outputId": "6180b8c5-9424-4030-c729-ddc4e2e52fa3",
        "colab": {
          "base_uri": "https://localhost:8080/"
        }
      },
      "execution_count": 8,
      "outputs": [
        {
          "output_type": "execute_result",
          "data": {
            "text/plain": [
              "[tensor([6., 5., 2., 4., 3., 7., 4., 7., 7., 1., 4., 5., 3., 3., 3., 4., 1., 6.,\n",
              "         4., 6., 2., 4., 3., 1., 7., 6., 6., 1., 2., 3., 3., 4.]),\n",
              " tensor([]),\n",
              " tensor([]),\n",
              " tensor([]),\n",
              " tensor([]),\n",
              " tensor([]),\n",
              " tensor([]),\n",
              " tensor([]),\n",
              " tensor([]),\n",
              " tensor([]),\n",
              " tensor([]),\n",
              " tensor([]),\n",
              " tensor([]),\n",
              " tensor([]),\n",
              " tensor([]),\n",
              " tensor([]),\n",
              " tensor([]),\n",
              " tensor([]),\n",
              " tensor([]),\n",
              " tensor([]),\n",
              " tensor([]),\n",
              " tensor([]),\n",
              " tensor([]),\n",
              " tensor([]),\n",
              " tensor([]),\n",
              " tensor([]),\n",
              " tensor([]),\n",
              " tensor([]),\n",
              " tensor([]),\n",
              " tensor([]),\n",
              " tensor([]),\n",
              " tensor([]),\n",
              " tensor([]),\n",
              " tensor([]),\n",
              " tensor([]),\n",
              " tensor([]),\n",
              " tensor([]),\n",
              " tensor([]),\n",
              " tensor([]),\n",
              " tensor([]),\n",
              " tensor([]),\n",
              " tensor([]),\n",
              " tensor([]),\n",
              " tensor([]),\n",
              " tensor([]),\n",
              " tensor([]),\n",
              " tensor([]),\n",
              " tensor([]),\n",
              " tensor([]),\n",
              " tensor([]),\n",
              " tensor([]),\n",
              " tensor([]),\n",
              " tensor([]),\n",
              " tensor([]),\n",
              " tensor([]),\n",
              " tensor([]),\n",
              " tensor([]),\n",
              " tensor([]),\n",
              " tensor([]),\n",
              " tensor([]),\n",
              " tensor([]),\n",
              " tensor([]),\n",
              " tensor([]),\n",
              " tensor([]),\n",
              " tensor([]),\n",
              " tensor([]),\n",
              " tensor([]),\n",
              " tensor([]),\n",
              " tensor([]),\n",
              " tensor([]),\n",
              " tensor([]),\n",
              " tensor([]),\n",
              " tensor([]),\n",
              " tensor([]),\n",
              " tensor([]),\n",
              " tensor([]),\n",
              " tensor([]),\n",
              " tensor([]),\n",
              " tensor([]),\n",
              " tensor([]),\n",
              " tensor([]),\n",
              " tensor([]),\n",
              " tensor([]),\n",
              " tensor([]),\n",
              " tensor([]),\n",
              " tensor([]),\n",
              " tensor([]),\n",
              " tensor([]),\n",
              " tensor([]),\n",
              " tensor([]),\n",
              " tensor([]),\n",
              " tensor([]),\n",
              " tensor([]),\n",
              " tensor([]),\n",
              " tensor([]),\n",
              " tensor([]),\n",
              " tensor([]),\n",
              " tensor([]),\n",
              " tensor([]),\n",
              " tensor([]),\n",
              " tensor([]),\n",
              " tensor([]),\n",
              " tensor([]),\n",
              " tensor([]),\n",
              " tensor([]),\n",
              " tensor([]),\n",
              " tensor([]),\n",
              " tensor([]),\n",
              " tensor([]),\n",
              " tensor([]),\n",
              " tensor([]),\n",
              " tensor([]),\n",
              " tensor([]),\n",
              " tensor([]),\n",
              " tensor([]),\n",
              " tensor([]),\n",
              " tensor([]),\n",
              " tensor([]),\n",
              " tensor([]),\n",
              " tensor([]),\n",
              " tensor([]),\n",
              " tensor([]),\n",
              " tensor([]),\n",
              " tensor([]),\n",
              " tensor([]),\n",
              " tensor([]),\n",
              " tensor([]),\n",
              " tensor([]),\n",
              " tensor([]),\n",
              " tensor([]),\n",
              " tensor([]),\n",
              " tensor([]),\n",
              " tensor([]),\n",
              " tensor([]),\n",
              " tensor([]),\n",
              " tensor([]),\n",
              " tensor([]),\n",
              " tensor([]),\n",
              " tensor([]),\n",
              " tensor([]),\n",
              " tensor([]),\n",
              " tensor([]),\n",
              " tensor([]),\n",
              " tensor([]),\n",
              " tensor([]),\n",
              " tensor([]),\n",
              " tensor([]),\n",
              " tensor([]),\n",
              " tensor([]),\n",
              " tensor([]),\n",
              " tensor([]),\n",
              " tensor([]),\n",
              " tensor([]),\n",
              " tensor([]),\n",
              " tensor([]),\n",
              " tensor([])]"
            ]
          },
          "metadata": {},
          "execution_count": 8
        }
      ]
    },
    {
      "cell_type": "code",
      "source": [
        "class BurgerNet(nn.Module):\n",
        "    def __init__(self):\n",
        "         super(BurgerNet, self).__init__()\n",
        "         self.layer1 = nn.Sequential( nn.Conv2d(1, 32, kernel_size=5, stride=1, padding=2),\n",
        "            nn.ReLU(), nn.MaxPool2d(kernel_size=2, stride=2))\n",
        "         self.layer2 = nn.Sequential( nn.Conv2d(32, 64, kernel_size=5, stride=1, padding=2),\n",
        "            nn.ReLU(), nn.MaxPool2d(kernel_size=2, stride=2))\n",
        "         self.drop_out = nn.Dropout()\n",
        "         self.fc1 = nn.Linear(7 * 7 * 64, 1000)\n",
        "         self.fc2 = nn.Linear(1000, 10)\n",
        "\n",
        "    def forward(self, x):\n",
        "      out = self.layer1(x)\n",
        "      out = self.layer2(out)\n",
        "      out = out.view(out.size(0), -1)\n",
        "      out = self.drop_out(out)\n",
        "      out = self.fc1(out)\n",
        "      out = self.fc2(out)\n",
        "\n",
        "      return out\n",
        "\n",
        "model = BurgerNet()\n",
        "criterion = nn.CrossEntropyLoss()\n",
        "mac_optimizer = torch.optim.Adam(model.parameters(), lr=lerning_rate)"
      ],
      "metadata": {
        "id": "FEjNwxStZn_a"
      },
      "execution_count": 26,
      "outputs": []
    },
    {
      "cell_type": "code",
      "source": [
        "loss_list = []\n",
        "acc_list = []\n",
        "\n",
        "for epoch_num in range(epoch):\n",
        "  for i, (images, labels) in enumerate(data_loader):\n",
        "    print(labels.size())\n",
        "    outputs = model(images)\n",
        "\n",
        ""
      ],
      "metadata": {
        "id": "Pbc-osSqwRcW"
      },
      "execution_count": null,
      "outputs": []
    }
  ],
  "metadata": {
    "kernelspec": {
      "display_name": "Python 3",
      "name": "python3"
    },
    "language_info": {
      "name": "python",
      "version": "3.11.8"
    },
    "colab": {
      "provenance": []
    },
    "accelerator": "TPU"
  },
  "nbformat": 4,
  "nbformat_minor": 0
}